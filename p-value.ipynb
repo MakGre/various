{
 "cells": [
  {
   "cell_type": "code",
   "execution_count": 1,
   "id": "e7ba5771",
   "metadata": {},
   "outputs": [],
   "source": [
    "import numpy as np\n",
    "import pandas as pd\n",
    "from scipy.special import erf\n",
    "import matplotlib.pyplot as plt"
   ]
  },
  {
   "cell_type": "code",
   "execution_count": 2,
   "id": "a304030f",
   "metadata": {},
   "outputs": [],
   "source": [
    "mean_null = 0.\n",
    "std_null = 1.\n",
    "mean_hypo = 1.\n",
    "std_hypo = 1."
   ]
  },
  {
   "cell_type": "code",
   "execution_count": 3,
   "id": "6ed23ebc",
   "metadata": {},
   "outputs": [],
   "source": [
    "def cumulative_normal(d, mu, sigma):\n",
    "    return 0.5*(1 + erf((d-mu)/(np.sqrt(2)*sigma)))"
   ]
  },
  {
   "cell_type": "code",
   "execution_count": 4,
   "id": "519e2a7c",
   "metadata": {},
   "outputs": [],
   "source": [
    "def calc_p_value(d_obs):\n",
    "    return 1-cumulative_normal(d_obs, mean_null, std_null)"
   ]
  },
  {
   "cell_type": "code",
   "execution_count": 5,
   "id": "6dd19f92",
   "metadata": {},
   "outputs": [],
   "source": [
    "results = []\n",
    "for i in range(100000):\n",
    "    null_is_true = np.random.choice([True, False])\n",
    "    true_mean = mean_null if null_is_true else mean_hypo\n",
    "    obs_datum = np.random.randn() + true_mean\n",
    "    p_value = calc_p_value(obs_datum)\n",
    "    if p_value < 0.05:\n",
    "        null_test = False\n",
    "    else:\n",
    "        null_test = True\n",
    "    results.append({\"real\": null_is_true, \"reported\": null_test, \"p-value\": p_value})"
   ]
  },
  {
   "cell_type": "code",
   "execution_count": 6,
   "id": "c78cd759",
   "metadata": {},
   "outputs": [],
   "source": [
    "import pandas as pd\n",
    "result_df = pd.DataFrame(results)"
   ]
  },
  {
   "cell_type": "code",
   "execution_count": 7,
   "id": "bbfbeb91",
   "metadata": {},
   "outputs": [
    {
     "data": {
      "image/png": "[encoded data removed]",
      "text/plain": [
       "<Figure size 1008x504 with 1 Axes>"
      ]
     },
     "metadata": {
      "needs_background": "light"
     },
     "output_type": "display_data"
    }
   ],
   "source": [
    "hist_true, bins = np.histogram(result_df[result_df[\"real\"] == True][\"p-value\"],\n",
    "                               bins=np.linspace(0,0.1,11))\n",
    "hist_false, bins = np.histogram(result_df[result_df[\"real\"] == False][\"p-value\"],\n",
    "                               bins=np.linspace(0,0.1,11))\n",
    "\n",
    "plt.figure(figsize=(14, 7))\n",
    "plt.bar((bins[1:]+bins[:-1])/2, hist_true/np.sum(hist_true),\n",
    "        width=0.008, alpha=.5, label=\"p-value frequency if H_0 is True\")\n",
    "plt.bar((bins[1:]+bins[:-1])/2, hist_false/np.sum(hist_false),\n",
    "        width=0.008, alpha=.5, label=\"p-value frequency if H_0 is False\")\n",
    "plt.legend()\n",
    "plt.xticks((bins[1:]+bins[:-1])/2)\n",
    "None"
   ]
  },
  {
   "cell_type": "code",
   "execution_count": 11,
   "id": "45dcccb4",
   "metadata": {},
   "outputs": [
    {
     "name": "stdout",
     "output_type": "stream",
     "text": [
      "Among the times in which the null hypothesis was rejected the\n",
      "null hypothesis was actually correct in 16% of the cases.\n"
     ]
    }
   ],
   "source": [
    "print(f\"Among the times in which the null hypothesis was rejected the\\n\"\n",
    "      f\"null hypothesis was actually correct in \"\n",
    "      f\"{round(result_df[~result_df['reported']].mean()['real']*100)}%\"\n",
    "      \" of the cases.\")"
   ]
  },
  {
   "cell_type": "code",
   "execution_count": 12,
   "id": "c2ace47f",
   "metadata": {},
   "outputs": [
    {
     "name": "stdout",
     "output_type": "stream",
     "text": [
      "Among the times in which a p-value between 0.04 and 0.05 was reported the\n",
      "null hypothesis was actually correct in 23% of the cases.\n"
     ]
    }
   ],
   "source": [
    "print(f\"Among the times in which a p-value between 0.04 and 0.05 was reported the\\n\"\n",
    "      f\"null hypothesis was actually correct in \"\n",
    "      f\"{round(result_df[(result_df['p-value']>0.04) & (result_df['p-value']<0.05)].mean()['real']*100)}%\"\n",
    "      \" of the cases.\")"
   ]
  },
  {
   "cell_type": "code",
   "execution_count": null,
   "id": "4b8d6659",
   "metadata": {},
   "outputs": [],
   "source": []
  }
 ],
 "metadata": {
  "kernelspec": {
   "display_name": "Python 3",
   "language": "python",
   "name": "python3"
  },
  "language_info": {
   "codemirror_mode": {
    "name": "ipython",
    "version": 3
   },
   "file_extension": ".py",
   "mimetype": "text/x-python",
   "name": "python",
   "nbconvert_exporter": "python",
   "pygments_lexer": "ipython3",
   "version": "3.8.8"
  }
 },
 "nbformat": 4,
 "nbformat_minor": 5
}
